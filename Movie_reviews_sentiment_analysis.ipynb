{
 "cells": [
  {
   "cell_type": "code",
   "execution_count": 1,
   "metadata": {},
   "outputs": [],
   "source": [
    "from sklearn.ensemble import RandomForestClassifier\n",
    "from mlxtend.classifier import StackingClassifier\n",
    "from sklearn.ensemble import GradientBoostingClassifier\n",
    "import pandas as pd\n",
    "from sklearn.model_selection import train_test_split\n",
    "from sklearn.naive_bayes import MultinomialNB\n",
    "from sklearn.feature_extraction.text import TfidfVectorizer\n",
    "from sklearn import model_selection\n",
    "from sklearn.linear_model import LogisticRegression\n",
    "from catboost import CatBoostClassifier\n",
    "import nltk\n",
    "from bs4 import BeautifulSoup\n",
    "import re\n",
    "from sklearn.svm import SVC\n",
    "from sklearn.metrics import classification_report,confusion_matrix\n",
    "import seaborn as sns"
   ]
  },
  {
   "cell_type": "code",
   "execution_count": 2,
   "metadata": {},
   "outputs": [],
   "source": [
    "data=pd.read_csv('train.tsv',delimiter='\\t')"
   ]
  },
  {
   "cell_type": "code",
   "execution_count": 3,
   "metadata": {},
   "outputs": [
    {
     "data": {
      "text/html": [
       "<div>\n",
       "<style scoped>\n",
       "    .dataframe tbody tr th:only-of-type {\n",
       "        vertical-align: middle;\n",
       "    }\n",
       "\n",
       "    .dataframe tbody tr th {\n",
       "        vertical-align: top;\n",
       "    }\n",
       "\n",
       "    .dataframe thead th {\n",
       "        text-align: right;\n",
       "    }\n",
       "</style>\n",
       "<table border=\"1\" class=\"dataframe\">\n",
       "  <thead>\n",
       "    <tr style=\"text-align: right;\">\n",
       "      <th></th>\n",
       "      <th>PhraseId</th>\n",
       "      <th>SentenceId</th>\n",
       "      <th>Phrase</th>\n",
       "      <th>Sentiment</th>\n",
       "    </tr>\n",
       "  </thead>\n",
       "  <tbody>\n",
       "    <tr>\n",
       "      <td>0</td>\n",
       "      <td>1</td>\n",
       "      <td>1</td>\n",
       "      <td>A series of escapades demonstrating the adage ...</td>\n",
       "      <td>1</td>\n",
       "    </tr>\n",
       "    <tr>\n",
       "      <td>1</td>\n",
       "      <td>2</td>\n",
       "      <td>1</td>\n",
       "      <td>A series of escapades demonstrating the adage ...</td>\n",
       "      <td>2</td>\n",
       "    </tr>\n",
       "    <tr>\n",
       "      <td>2</td>\n",
       "      <td>3</td>\n",
       "      <td>1</td>\n",
       "      <td>A series</td>\n",
       "      <td>2</td>\n",
       "    </tr>\n",
       "    <tr>\n",
       "      <td>3</td>\n",
       "      <td>4</td>\n",
       "      <td>1</td>\n",
       "      <td>A</td>\n",
       "      <td>2</td>\n",
       "    </tr>\n",
       "    <tr>\n",
       "      <td>4</td>\n",
       "      <td>5</td>\n",
       "      <td>1</td>\n",
       "      <td>series</td>\n",
       "      <td>2</td>\n",
       "    </tr>\n",
       "  </tbody>\n",
       "</table>\n",
       "</div>"
      ],
      "text/plain": [
       "   PhraseId  SentenceId                                             Phrase  \\\n",
       "0         1           1  A series of escapades demonstrating the adage ...   \n",
       "1         2           1  A series of escapades demonstrating the adage ...   \n",
       "2         3           1                                           A series   \n",
       "3         4           1                                                  A   \n",
       "4         5           1                                             series   \n",
       "\n",
       "   Sentiment  \n",
       "0          1  \n",
       "1          2  \n",
       "2          2  \n",
       "3          2  \n",
       "4          2  "
      ]
     },
     "execution_count": 3,
     "metadata": {},
     "output_type": "execute_result"
    }
   ],
   "source": [
    "data.head()"
   ]
  },
  {
   "cell_type": "code",
   "execution_count": 4,
   "metadata": {},
   "outputs": [],
   "source": [
    "data=data.drop(['PhraseId','SentenceId'],axis=1)"
   ]
  },
  {
   "cell_type": "code",
   "execution_count": 5,
   "metadata": {},
   "outputs": [
    {
     "data": {
      "text/html": [
       "<div>\n",
       "<style scoped>\n",
       "    .dataframe tbody tr th:only-of-type {\n",
       "        vertical-align: middle;\n",
       "    }\n",
       "\n",
       "    .dataframe tbody tr th {\n",
       "        vertical-align: top;\n",
       "    }\n",
       "\n",
       "    .dataframe thead th {\n",
       "        text-align: right;\n",
       "    }\n",
       "</style>\n",
       "<table border=\"1\" class=\"dataframe\">\n",
       "  <thead>\n",
       "    <tr style=\"text-align: right;\">\n",
       "      <th></th>\n",
       "      <th>Phrase</th>\n",
       "      <th>Sentiment</th>\n",
       "    </tr>\n",
       "  </thead>\n",
       "  <tbody>\n",
       "    <tr>\n",
       "      <td>0</td>\n",
       "      <td>A series of escapades demonstrating the adage ...</td>\n",
       "      <td>1</td>\n",
       "    </tr>\n",
       "    <tr>\n",
       "      <td>1</td>\n",
       "      <td>A series of escapades demonstrating the adage ...</td>\n",
       "      <td>2</td>\n",
       "    </tr>\n",
       "    <tr>\n",
       "      <td>2</td>\n",
       "      <td>A series</td>\n",
       "      <td>2</td>\n",
       "    </tr>\n",
       "    <tr>\n",
       "      <td>3</td>\n",
       "      <td>A</td>\n",
       "      <td>2</td>\n",
       "    </tr>\n",
       "    <tr>\n",
       "      <td>4</td>\n",
       "      <td>series</td>\n",
       "      <td>2</td>\n",
       "    </tr>\n",
       "  </tbody>\n",
       "</table>\n",
       "</div>"
      ],
      "text/plain": [
       "                                              Phrase  Sentiment\n",
       "0  A series of escapades demonstrating the adage ...          1\n",
       "1  A series of escapades demonstrating the adage ...          2\n",
       "2                                           A series          2\n",
       "3                                                  A          2\n",
       "4                                             series          2"
      ]
     },
     "execution_count": 5,
     "metadata": {},
     "output_type": "execute_result"
    }
   ],
   "source": [
    "data.head()"
   ]
  },
  {
   "cell_type": "code",
   "execution_count": 6,
   "metadata": {},
   "outputs": [
    {
     "data": {
      "text/plain": [
       "<matplotlib.axes._subplots.AxesSubplot at 0x1a20809978>"
      ]
     },
     "execution_count": 6,
     "metadata": {},
     "output_type": "execute_result"
    },
    {
     "data": {
      "image/png": "[encoded data removed]",
      "text/plain": [
       "<Figure size 432x288 with 1 Axes>"
      ]
     },
     "metadata": {
      "needs_background": "light"
     },
     "output_type": "display_data"
    }
   ],
   "source": [
    "sns.countplot(data['Sentiment'])"
   ]
  },
  {
   "cell_type": "markdown",
   "metadata": {},
   "source": [
    "### As the count of 0 and 4 is really small we shall merge those sentiments with 1 and 3."
   ]
  },
  {
   "cell_type": "code",
   "execution_count": 7,
   "metadata": {},
   "outputs": [],
   "source": [
    "data.loc[data['Sentiment'] == 0, 'Sentiment'] = 1\n",
    "data.loc[data['Sentiment'] == 4, 'Sentiment'] = 3"
   ]
  },
  {
   "cell_type": "code",
   "execution_count": 8,
   "metadata": {},
   "outputs": [
    {
     "data": {
      "text/plain": [
       "<matplotlib.axes._subplots.AxesSubplot at 0x1a1d097208>"
      ]
     },
     "execution_count": 8,
     "metadata": {},
     "output_type": "execute_result"
    },
    {
     "data": {
      "image/png": "[encoded data removed]",
      "text/plain": [
       "<Figure size 432x288 with 1 Axes>"
      ]
     },
     "metadata": {
      "needs_background": "light"
     },
     "output_type": "display_data"
    }
   ],
   "source": [
    "sns.countplot(data['Sentiment'])"
   ]
  },
  {
   "cell_type": "code",
   "execution_count": 9,
   "metadata": {},
   "outputs": [],
   "source": [
    "def clean(words):\n",
    "    x=BeautifulSoup(words).get_text()\n",
    "    x=re.sub(\"[^a-zA-Z]\",\" \", words)\n",
    "    x = x.lower()\n",
    "    return x"
   ]
  },
  {
   "cell_type": "code",
   "execution_count": 10,
   "metadata": {},
   "outputs": [
    {
     "name": "stderr",
     "output_type": "stream",
     "text": [
      "/Users/ashish/anaconda3/lib/python3.7/site-packages/bs4/__init__.py:272: UserWarning: \"b'.'\" looks like a filename, not markup. You should probably open this file and pass the filehandle into Beautiful Soup.\n",
      "  ' Beautiful Soup.' % markup)\n"
     ]
    }
   ],
   "source": [
    "data['Phrase']=data['Phrase'].apply(lambda x : clean(x))"
   ]
  },
  {
   "cell_type": "code",
   "execution_count": 11,
   "metadata": {},
   "outputs": [
    {
     "data": {
      "text/plain": [
       "0         a series of escapades demonstrating the adage ...\n",
       "1         a series of escapades demonstrating the adage ...\n",
       "2                                                  a series\n",
       "3                                                         a\n",
       "4                                                    series\n",
       "                                ...                        \n",
       "156055                                            hearst  s\n",
       "156056                            forced avuncular chortles\n",
       "156057                                   avuncular chortles\n",
       "156058                                            avuncular\n",
       "156059                                             chortles\n",
       "Name: Phrase, Length: 156060, dtype: object"
      ]
     },
     "execution_count": 11,
     "metadata": {},
     "output_type": "execute_result"
    }
   ],
   "source": [
    "data['Phrase']"
   ]
  },
  {
   "cell_type": "code",
   "execution_count": 12,
   "metadata": {},
   "outputs": [],
   "source": [
    "X_train, X_test, y_train, y_test = train_test_split(data[\"Phrase\"], data[\"Sentiment\"], test_size=0.3)"
   ]
  },
  {
   "cell_type": "code",
   "execution_count": 13,
   "metadata": {},
   "outputs": [
    {
     "data": {
      "text/plain": [
       "51828                                            graceland\n",
       "92447                                                   sa\n",
       "6430     offers the flash of rock videos fused with sol...\n",
       "46412    not only one of the best gay love stories ever...\n",
       "32265                         breathe out of every frame  \n",
       "Name: Phrase, dtype: object"
      ]
     },
     "execution_count": 13,
     "metadata": {},
     "output_type": "execute_result"
    }
   ],
   "source": [
    "X_train.head()"
   ]
  },
  {
   "cell_type": "code",
   "execution_count": 14,
   "metadata": {},
   "outputs": [],
   "source": [
    "tf=TfidfVectorizer(ngram_range=(2,2),stop_words='english')"
   ]
  },
  {
   "cell_type": "code",
   "execution_count": 15,
   "metadata": {},
   "outputs": [],
   "source": [
    "X_train_tf=tf.fit_transform(X_train)"
   ]
  },
  {
   "cell_type": "code",
   "execution_count": 16,
   "metadata": {},
   "outputs": [],
   "source": [
    "X_test_tf=tf.transform(X_test)"
   ]
  },
  {
   "cell_type": "code",
   "execution_count": 17,
   "metadata": {},
   "outputs": [],
   "source": [
    "clf1 = GradientBoostingClassifier(n_estimators=100,max_depth=5)\n",
    "clf2 = RandomForestClassifier(n_estimators=100,n_jobs=-1,max_depth=5)\n",
    "nb=MultinomialNB(alpha=0.1)\n",
    "cl4=CatBoostClassifier(iterations=100)\n",
    "sclf = StackingClassifier(classifiers=[clf1, clf2,cl4], meta_classifier=nb,verbose=1,use_probas=True,use_features_in_secondary=True,drop_last_proba=True,average_probas=True)"
   ]
  },
  {
   "cell_type": "code",
   "execution_count": 18,
   "metadata": {},
   "outputs": [
    {
     "name": "stdout",
     "output_type": "stream",
     "text": [
      "Fitting 3 classifiers...\n",
      "Fitting classifier1: gradientboostingclassifier (1/3)\n",
      "Fitting classifier2: randomforestclassifier (2/3)\n",
      "Fitting classifier3: catboostclassifier (3/3)\n",
      "0:\tlearn: 1.0942929\ttotal: 1.05s\tremaining: 1m 43s\n",
      "1:\tlearn: 1.0902677\ttotal: 1.65s\tremaining: 1m 20s\n",
      "2:\tlearn: 1.0865065\ttotal: 2.24s\tremaining: 1m 12s\n",
      "3:\tlearn: 1.0829907\ttotal: 2.81s\tremaining: 1m 7s\n",
      "4:\tlearn: 1.0797007\ttotal: 3.38s\tremaining: 1m 4s\n",
      "5:\tlearn: 1.0765687\ttotal: 3.96s\tremaining: 1m 2s\n",
      "6:\tlearn: 1.0736813\ttotal: 4.53s\tremaining: 1m\n",
      "7:\tlearn: 1.0709778\ttotal: 5.09s\tremaining: 58.6s\n",
      "8:\tlearn: 1.0684414\ttotal: 5.67s\tremaining: 57.4s\n",
      "9:\tlearn: 1.0660664\ttotal: 6.25s\tremaining: 56.2s\n",
      "10:\tlearn: 1.0638367\ttotal: 6.81s\tremaining: 55.1s\n",
      "11:\tlearn: 1.0617339\ttotal: 7.38s\tremaining: 54.1s\n",
      "12:\tlearn: 1.0597777\ttotal: 7.95s\tremaining: 53.2s\n",
      "13:\tlearn: 1.0579354\ttotal: 8.51s\tremaining: 52.3s\n",
      "14:\tlearn: 1.0561626\ttotal: 9.08s\tremaining: 51.4s\n",
      "15:\tlearn: 1.0545452\ttotal: 9.65s\tremaining: 50.6s\n",
      "16:\tlearn: 1.0530245\ttotal: 10.2s\tremaining: 49.9s\n",
      "17:\tlearn: 1.0515937\ttotal: 10.8s\tremaining: 49.2s\n",
      "18:\tlearn: 1.0502508\ttotal: 11.4s\tremaining: 48.5s\n",
      "19:\tlearn: 1.0489887\ttotal: 12.1s\tremaining: 48.2s\n",
      "20:\tlearn: 1.0478059\ttotal: 12.7s\tremaining: 47.8s\n",
      "21:\tlearn: 1.0466917\ttotal: 13.3s\tremaining: 47.1s\n",
      "22:\tlearn: 1.0456423\ttotal: 13.9s\tremaining: 46.4s\n",
      "23:\tlearn: 1.0446591\ttotal: 14.4s\tremaining: 45.7s\n",
      "24:\tlearn: 1.0437323\ttotal: 15s\tremaining: 45s\n",
      "25:\tlearn: 1.0428620\ttotal: 15.6s\tremaining: 44.4s\n",
      "26:\tlearn: 1.0420456\ttotal: 16.2s\tremaining: 43.7s\n",
      "27:\tlearn: 1.0412719\ttotal: 16.8s\tremaining: 43.1s\n",
      "28:\tlearn: 1.0405343\ttotal: 17.4s\tremaining: 42.5s\n",
      "29:\tlearn: 1.0398520\ttotal: 18s\tremaining: 41.9s\n",
      "30:\tlearn: 1.0392112\ttotal: 18.6s\tremaining: 41.3s\n",
      "31:\tlearn: 1.0385751\ttotal: 19.1s\tremaining: 40.6s\n",
      "32:\tlearn: 1.0380065\ttotal: 19.7s\tremaining: 40s\n",
      "33:\tlearn: 1.0374320\ttotal: 20.3s\tremaining: 39.3s\n",
      "34:\tlearn: 1.0369102\ttotal: 20.8s\tremaining: 38.7s\n",
      "35:\tlearn: 1.0364242\ttotal: 21.4s\tremaining: 38s\n",
      "36:\tlearn: 1.0359805\ttotal: 22s\tremaining: 37.4s\n",
      "37:\tlearn: 1.0355234\ttotal: 22.5s\tremaining: 36.8s\n",
      "38:\tlearn: 1.0350896\ttotal: 23.1s\tremaining: 36.1s\n",
      "39:\tlearn: 1.0347197\ttotal: 23.7s\tremaining: 35.5s\n",
      "40:\tlearn: 1.0343592\ttotal: 24.3s\tremaining: 34.9s\n",
      "41:\tlearn: 1.0340313\ttotal: 24.8s\tremaining: 34.3s\n",
      "42:\tlearn: 1.0336866\ttotal: 25.4s\tremaining: 33.7s\n",
      "43:\tlearn: 1.0333454\ttotal: 26s\tremaining: 33.1s\n",
      "44:\tlearn: 1.0330723\ttotal: 26.5s\tremaining: 32.4s\n",
      "45:\tlearn: 1.0327998\ttotal: 27.2s\tremaining: 31.9s\n",
      "46:\tlearn: 1.0325510\ttotal: 27.9s\tremaining: 31.5s\n",
      "47:\tlearn: 1.0322869\ttotal: 28.7s\tremaining: 31.1s\n",
      "48:\tlearn: 1.0320732\ttotal: 29.3s\tremaining: 30.5s\n",
      "49:\tlearn: 1.0318431\ttotal: 29.8s\tremaining: 29.8s\n",
      "50:\tlearn: 1.0316290\ttotal: 30.5s\tremaining: 29.3s\n",
      "51:\tlearn: 1.0314146\ttotal: 31s\tremaining: 28.6s\n",
      "52:\tlearn: 1.0312148\ttotal: 31.6s\tremaining: 28s\n",
      "53:\tlearn: 1.0310211\ttotal: 32.2s\tremaining: 27.4s\n",
      "54:\tlearn: 1.0308497\ttotal: 32.8s\tremaining: 26.8s\n",
      "55:\tlearn: 1.0306767\ttotal: 33.4s\tremaining: 26.2s\n",
      "56:\tlearn: 1.0305136\ttotal: 33.9s\tremaining: 25.6s\n",
      "57:\tlearn: 1.0303672\ttotal: 34.5s\tremaining: 25s\n",
      "58:\tlearn: 1.0302474\ttotal: 35.1s\tremaining: 24.4s\n",
      "59:\tlearn: 1.0301195\ttotal: 35.6s\tremaining: 23.7s\n",
      "60:\tlearn: 1.0299840\ttotal: 36.2s\tremaining: 23.1s\n",
      "61:\tlearn: 1.0298540\ttotal: 36.8s\tremaining: 22.5s\n",
      "62:\tlearn: 1.0297285\ttotal: 37.4s\tremaining: 22s\n",
      "63:\tlearn: 1.0296173\ttotal: 38.1s\tremaining: 21.4s\n",
      "64:\tlearn: 1.0295101\ttotal: 38.7s\tremaining: 20.8s\n",
      "65:\tlearn: 1.0293903\ttotal: 39.2s\tremaining: 20.2s\n",
      "66:\tlearn: 1.0292798\ttotal: 39.8s\tremaining: 19.6s\n",
      "67:\tlearn: 1.0291866\ttotal: 40.4s\tremaining: 19s\n",
      "68:\tlearn: 1.0290932\ttotal: 41s\tremaining: 18.4s\n",
      "69:\tlearn: 1.0289928\ttotal: 41.5s\tremaining: 17.8s\n",
      "70:\tlearn: 1.0288955\ttotal: 42.1s\tremaining: 17.2s\n",
      "71:\tlearn: 1.0288115\ttotal: 42.7s\tremaining: 16.6s\n",
      "72:\tlearn: 1.0287231\ttotal: 43.3s\tremaining: 16s\n",
      "73:\tlearn: 1.0286413\ttotal: 43.8s\tremaining: 15.4s\n",
      "74:\tlearn: 1.0285565\ttotal: 44.4s\tremaining: 14.8s\n",
      "75:\tlearn: 1.0284683\ttotal: 45s\tremaining: 14.2s\n",
      "76:\tlearn: 1.0283758\ttotal: 45.6s\tremaining: 13.6s\n",
      "77:\tlearn: 1.0283043\ttotal: 46.1s\tremaining: 13s\n",
      "78:\tlearn: 1.0282383\ttotal: 46.7s\tremaining: 12.4s\n",
      "79:\tlearn: 1.0281707\ttotal: 47.3s\tremaining: 11.8s\n",
      "80:\tlearn: 1.0280745\ttotal: 47.9s\tremaining: 11.2s\n",
      "81:\tlearn: 1.0280205\ttotal: 48.5s\tremaining: 10.6s\n",
      "82:\tlearn: 1.0279378\ttotal: 49s\tremaining: 10s\n",
      "83:\tlearn: 1.0278947\ttotal: 49.6s\tremaining: 9.45s\n",
      "84:\tlearn: 1.0278326\ttotal: 50.2s\tremaining: 8.86s\n",
      "85:\tlearn: 1.0277649\ttotal: 50.8s\tremaining: 8.27s\n",
      "86:\tlearn: 1.0276861\ttotal: 51.4s\tremaining: 7.67s\n",
      "87:\tlearn: 1.0276323\ttotal: 51.9s\tremaining: 7.08s\n",
      "88:\tlearn: 1.0275886\ttotal: 52.5s\tremaining: 6.49s\n",
      "89:\tlearn: 1.0275399\ttotal: 53.1s\tremaining: 5.9s\n",
      "90:\tlearn: 1.0274754\ttotal: 53.7s\tremaining: 5.31s\n",
      "91:\tlearn: 1.0274059\ttotal: 54.2s\tremaining: 4.71s\n",
      "92:\tlearn: 1.0273577\ttotal: 54.8s\tremaining: 4.12s\n",
      "93:\tlearn: 1.0272991\ttotal: 55.4s\tremaining: 3.54s\n",
      "94:\tlearn: 1.0272478\ttotal: 56s\tremaining: 2.94s\n",
      "95:\tlearn: 1.0271896\ttotal: 56.5s\tremaining: 2.35s\n",
      "96:\tlearn: 1.0271566\ttotal: 57.1s\tremaining: 1.76s\n",
      "97:\tlearn: 1.0271013\ttotal: 57.7s\tremaining: 1.18s\n",
      "98:\tlearn: 1.0270676\ttotal: 58.2s\tremaining: 588ms\n",
      "99:\tlearn: 1.0270104\ttotal: 58.8s\tremaining: 0us\n"
     ]
    },
    {
     "data": {
      "text/plain": [
       "StackingClassifier(average_probas=True,\n",
       "          classifiers=[GradientBoostingClassifier(criterion='friedman_mse', init=None,\n",
       "              learning_rate=0.1, loss='deviance', max_depth=5,\n",
       "              max_features=None, max_leaf_nodes=None,\n",
       "              min_impurity_decrease=0.0, min_impurity_split=None,\n",
       "              min_samples_leaf=1, min_sa...verbose=0,\n",
       "            warm_start=False), <catboost.core.CatBoostClassifier object at 0x1a215fc908>],\n",
       "          drop_last_proba=True,\n",
       "          meta_classifier=MultinomialNB(alpha=0.1, class_prior=None, fit_prior=True),\n",
       "          store_train_meta_features=False, use_clones=True,\n",
       "          use_features_in_secondary=True, use_probas=True, verbose=1)"
      ]
     },
     "execution_count": 18,
     "metadata": {},
     "output_type": "execute_result"
    }
   ],
   "source": [
    "sclf.fit(X_train_tf,y_train)"
   ]
  },
  {
   "cell_type": "code",
   "execution_count": 19,
   "metadata": {},
   "outputs": [
    {
     "data": {
      "text/plain": [
       "0.6944764834038191"
      ]
     },
     "execution_count": 19,
     "metadata": {},
     "output_type": "execute_result"
    }
   ],
   "source": [
    "sclf.score(X_test_tf,y_test)"
   ]
  },
  {
   "cell_type": "code",
   "execution_count": 20,
   "metadata": {},
   "outputs": [
    {
     "name": "stdout",
     "output_type": "stream",
     "text": [
      "              precision    recall  f1-score   support\n",
      "\n",
      "           1       0.67      0.57      0.62     10392\n",
      "           2       0.69      0.79      0.74     23769\n",
      "           3       0.73      0.61      0.66     12657\n",
      "\n",
      "   micro avg       0.69      0.69      0.69     46818\n",
      "   macro avg       0.70      0.66      0.67     46818\n",
      "weighted avg       0.70      0.69      0.69     46818\n",
      "\n"
     ]
    }
   ],
   "source": [
    "print(classification_report(y_test,sclf.predict(X_test_tf)))"
   ]
  },
  {
   "cell_type": "code",
   "execution_count": 21,
   "metadata": {},
   "outputs": [
    {
     "name": "stdout",
     "output_type": "stream",
     "text": [
      "[[ 5969  4085   338]\n",
      " [ 2436 18867  2466]\n",
      " [  440  4539  7678]]\n"
     ]
    }
   ],
   "source": [
    "print(confusion_matrix(y_test,sclf.predict(X_test_tf)))"
   ]
  },
  {
   "cell_type": "code",
   "execution_count": 22,
   "metadata": {},
   "outputs": [],
   "source": [
    "probas = sclf.predict_proba(X_test_tf)"
   ]
  },
  {
   "cell_type": "code",
   "execution_count": 23,
   "metadata": {},
   "outputs": [
    {
     "data": {
      "text/plain": [
       "array([[0.18795791, 0.57647612, 0.23556597],\n",
       "       [0.01848716, 0.02923332, 0.95227952],\n",
       "       [0.89774076, 0.09572448, 0.00653476],\n",
       "       ...,\n",
       "       [0.18795791, 0.57647612, 0.23556597],\n",
       "       [0.18795791, 0.57647612, 0.23556597],\n",
       "       [0.05401042, 0.10369036, 0.84229922]])"
      ]
     },
     "execution_count": 23,
     "metadata": {},
     "output_type": "execute_result"
    }
   ],
   "source": [
    "probas"
   ]
  }
 ],
 "metadata": {
  "kernelspec": {
   "display_name": "Python 3",
   "language": "python",
   "name": "python3"
  },
  "language_info": {
   "codemirror_mode": {
    "name": "ipython",
    "version": 3
   },
   "file_extension": ".py",
   "mimetype": "text/x-python",
   "name": "python",
   "nbconvert_exporter": "python",
   "pygments_lexer": "ipython3",
   "version": "3.7.3"
  }
 },
 "nbformat": 4,
 "nbformat_minor": 2
}
