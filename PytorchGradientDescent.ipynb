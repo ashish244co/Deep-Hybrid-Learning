{
  "nbformat": 4,
  "nbformat_minor": 0,
  "metadata": {
    "colab": {
      "name": "PytorchGradientDescent.ipynb",
      "provenance": [],
      "collapsed_sections": [],
      "authorship_tag": "ABX9TyPQNgpgUTSV+IsSO2SsVLDH",
      "include_colab_link": true
    },
    "kernelspec": {
      "name": "python3",
      "display_name": "Python 3"
    },
    "widgets": {
      "application/vnd.jupyter.widget-state+json": {
        "662135498d8643ada88f0adb55c69933": {
          "model_module": "@jupyter-widgets/controls",
          "model_name": "HBoxModel",
          "state": {
            "_view_name": "HBoxView",
            "_dom_classes": [],
            "_model_name": "HBoxModel",
            "_view_module": "@jupyter-widgets/controls",
            "_model_module_version": "1.5.0",
            "_view_count": null,
            "_view_module_version": "1.5.0",
            "box_style": "",
            "layout": "IPY_MODEL_f1632732ab9b40a0b279f07cfbbb54e7",
            "_model_module": "@jupyter-widgets/controls",
            "children": [
              "IPY_MODEL_bb9aaed9522541cdb50b1f1e9101f74d",
              "IPY_MODEL_16cb4169fa284ca2801df146139284e3"
            ]
          }
        },
        "f1632732ab9b40a0b279f07cfbbb54e7": {
          "model_module": "@jupyter-widgets/base",
          "model_name": "LayoutModel",
          "state": {
            "_view_name": "LayoutView",
            "grid_template_rows": null,
            "right": null,
            "justify_content": null,
            "_view_module": "@jupyter-widgets/base",
            "overflow": null,
            "_model_module_version": "1.2.0",
            "_view_count": null,
            "flex_flow": null,
            "width": null,
            "min_width": null,
            "border": null,
            "align_items": null,
            "bottom": null,
            "_model_module": "@jupyter-widgets/base",
            "top": null,
            "grid_column": null,
            "overflow_y": null,
            "overflow_x": null,
            "grid_auto_flow": null,
            "grid_area": null,
            "grid_template_columns": null,
            "flex": null,
            "_model_name": "LayoutModel",
            "justify_items": null,
            "grid_row": null,
            "max_height": null,
            "align_content": null,
            "visibility": null,
            "align_self": null,
            "height": null,
            "min_height": null,
            "padding": null,
            "grid_auto_rows": null,
            "grid_gap": null,
            "max_width": null,
            "order": null,
            "_view_module_version": "1.2.0",
            "grid_template_areas": null,
            "object_position": null,
            "object_fit": null,
            "grid_auto_columns": null,
            "margin": null,
            "display": null,
            "left": null
          }
        },
        "bb9aaed9522541cdb50b1f1e9101f74d": {
          "model_module": "@jupyter-widgets/controls",
          "model_name": "FloatProgressModel",
          "state": {
            "_view_name": "ProgressView",
            "style": "IPY_MODEL_a388833015e046a28571b6d6df3323de",
            "_dom_classes": [],
            "description": "100%",
            "_model_name": "FloatProgressModel",
            "bar_style": "success",
            "max": 20,
            "_view_module": "@jupyter-widgets/controls",
            "_model_module_version": "1.5.0",
            "value": 20,
            "_view_count": null,
            "_view_module_version": "1.5.0",
            "orientation": "horizontal",
            "min": 0,
            "description_tooltip": null,
            "_model_module": "@jupyter-widgets/controls",
            "layout": "IPY_MODEL_5c56b97523984730a2b8075311ed2abd"
          }
        },
        "16cb4169fa284ca2801df146139284e3": {
          "model_module": "@jupyter-widgets/controls",
          "model_name": "HTMLModel",
          "state": {
            "_view_name": "HTMLView",
            "style": "IPY_MODEL_cf093e39dc7746e9a1c289a9e63755bb",
            "_dom_classes": [],
            "description": "",
            "_model_name": "HTMLModel",
            "placeholder": "​",
            "_view_module": "@jupyter-widgets/controls",
            "_model_module_version": "1.5.0",
            "value": " 20/20 [00:13&lt;00:00,  1.46it/s]",
            "_view_count": null,
            "_view_module_version": "1.5.0",
            "description_tooltip": null,
            "_model_module": "@jupyter-widgets/controls",
            "layout": "IPY_MODEL_03e8054726ad40b6b15c83ca50bb2cf6"
          }
        },
        "a388833015e046a28571b6d6df3323de": {
          "model_module": "@jupyter-widgets/controls",
          "model_name": "ProgressStyleModel",
          "state": {
            "_view_name": "StyleView",
            "_model_name": "ProgressStyleModel",
            "description_width": "initial",
            "_view_module": "@jupyter-widgets/base",
            "_model_module_version": "1.5.0",
            "_view_count": null,
            "_view_module_version": "1.2.0",
            "bar_color": null,
            "_model_module": "@jupyter-widgets/controls"
          }
        },
        "5c56b97523984730a2b8075311ed2abd": {
          "model_module": "@jupyter-widgets/base",
          "model_name": "LayoutModel",
          "state": {
            "_view_name": "LayoutView",
            "grid_template_rows": null,
            "right": null,
            "justify_content": null,
            "_view_module": "@jupyter-widgets/base",
            "overflow": null,
            "_model_module_version": "1.2.0",
            "_view_count": null,
            "flex_flow": null,
            "width": null,
            "min_width": null,
            "border": null,
            "align_items": null,
            "bottom": null,
            "_model_module": "@jupyter-widgets/base",
            "top": null,
            "grid_column": null,
            "overflow_y": null,
            "overflow_x": null,
            "grid_auto_flow": null,
            "grid_area": null,
            "grid_template_columns": null,
            "flex": null,
            "_model_name": "LayoutModel",
            "justify_items": null,
            "grid_row": null,
            "max_height": null,
            "align_content": null,
            "visibility": null,
            "align_self": null,
            "height": null,
            "min_height": null,
            "padding": null,
            "grid_auto_rows": null,
            "grid_gap": null,
            "max_width": null,
            "order": null,
            "_view_module_version": "1.2.0",
            "grid_template_areas": null,
            "object_position": null,
            "object_fit": null,
            "grid_auto_columns": null,
            "margin": null,
            "display": null,
            "left": null
          }
        },
        "cf093e39dc7746e9a1c289a9e63755bb": {
          "model_module": "@jupyter-widgets/controls",
          "model_name": "DescriptionStyleModel",
          "state": {
            "_view_name": "StyleView",
            "_model_name": "DescriptionStyleModel",
            "description_width": "",
            "_view_module": "@jupyter-widgets/base",
            "_model_module_version": "1.5.0",
            "_view_count": null,
            "_view_module_version": "1.2.0",
            "_model_module": "@jupyter-widgets/controls"
          }
        },
        "03e8054726ad40b6b15c83ca50bb2cf6": {
          "model_module": "@jupyter-widgets/base",
          "model_name": "LayoutModel",
          "state": {
            "_view_name": "LayoutView",
            "grid_template_rows": null,
            "right": null,
            "justify_content": null,
            "_view_module": "@jupyter-widgets/base",
            "overflow": null,
            "_model_module_version": "1.2.0",
            "_view_count": null,
            "flex_flow": null,
            "width": null,
            "min_width": null,
            "border": null,
            "align_items": null,
            "bottom": null,
            "_model_module": "@jupyter-widgets/base",
            "top": null,
            "grid_column": null,
            "overflow_y": null,
            "overflow_x": null,
            "grid_auto_flow": null,
            "grid_area": null,
            "grid_template_columns": null,
            "flex": null,
            "_model_name": "LayoutModel",
            "justify_items": null,
            "grid_row": null,
            "max_height": null,
            "align_content": null,
            "visibility": null,
            "align_self": null,
            "height": null,
            "min_height": null,
            "padding": null,
            "grid_auto_rows": null,
            "grid_gap": null,
            "max_width": null,
            "order": null,
            "_view_module_version": "1.2.0",
            "grid_template_areas": null,
            "object_position": null,
            "object_fit": null,
            "grid_auto_columns": null,
            "margin": null,
            "display": null,
            "left": null
          }
        },
        "0b087a2fdd844b94b12f6af602be4b9e": {
          "model_module": "@jupyter-widgets/controls",
          "model_name": "HBoxModel",
          "state": {
            "_view_name": "HBoxView",
            "_dom_classes": [],
            "_model_name": "HBoxModel",
            "_view_module": "@jupyter-widgets/controls",
            "_model_module_version": "1.5.0",
            "_view_count": null,
            "_view_module_version": "1.5.0",
            "box_style": "",
            "layout": "IPY_MODEL_2d3f3081c6de450e8db4a0ee1d89a1a7",
            "_model_module": "@jupyter-widgets/controls",
            "children": [
              "IPY_MODEL_d797ec59439a40cba25b293fe2274bb6",
              "IPY_MODEL_2e03d31591b042648d4809783d0ec7cc"
            ]
          }
        },
        "2d3f3081c6de450e8db4a0ee1d89a1a7": {
          "model_module": "@jupyter-widgets/base",
          "model_name": "LayoutModel",
          "state": {
            "_view_name": "LayoutView",
            "grid_template_rows": null,
            "right": null,
            "justify_content": null,
            "_view_module": "@jupyter-widgets/base",
            "overflow": null,
            "_model_module_version": "1.2.0",
            "_view_count": null,
            "flex_flow": null,
            "width": null,
            "min_width": null,
            "border": null,
            "align_items": null,
            "bottom": null,
            "_model_module": "@jupyter-widgets/base",
            "top": null,
            "grid_column": null,
            "overflow_y": null,
            "overflow_x": null,
            "grid_auto_flow": null,
            "grid_area": null,
            "grid_template_columns": null,
            "flex": null,
            "_model_name": "LayoutModel",
            "justify_items": null,
            "grid_row": null,
            "max_height": null,
            "align_content": null,
            "visibility": null,
            "align_self": null,
            "height": null,
            "min_height": null,
            "padding": null,
            "grid_auto_rows": null,
            "grid_gap": null,
            "max_width": null,
            "order": null,
            "_view_module_version": "1.2.0",
            "grid_template_areas": null,
            "object_position": null,
            "object_fit": null,
            "grid_auto_columns": null,
            "margin": null,
            "display": null,
            "left": null
          }
        },
        "d797ec59439a40cba25b293fe2274bb6": {
          "model_module": "@jupyter-widgets/controls",
          "model_name": "FloatProgressModel",
          "state": {
            "_view_name": "ProgressView",
            "style": "IPY_MODEL_0af9c142ec124c7b87c9ca590c94cf08",
            "_dom_classes": [],
            "description": "100%",
            "_model_name": "FloatProgressModel",
            "bar_style": "success",
            "max": 20,
            "_view_module": "@jupyter-widgets/controls",
            "_model_module_version": "1.5.0",
            "value": 20,
            "_view_count": null,
            "_view_module_version": "1.5.0",
            "orientation": "horizontal",
            "min": 0,
            "description_tooltip": null,
            "_model_module": "@jupyter-widgets/controls",
            "layout": "IPY_MODEL_0afd4081b7424c28ba436383a04df5ae"
          }
        },
        "2e03d31591b042648d4809783d0ec7cc": {
          "model_module": "@jupyter-widgets/controls",
          "model_name": "HTMLModel",
          "state": {
            "_view_name": "HTMLView",
            "style": "IPY_MODEL_686f0052807243a38a71714593c49ec9",
            "_dom_classes": [],
            "description": "",
            "_model_name": "HTMLModel",
            "placeholder": "​",
            "_view_module": "@jupyter-widgets/controls",
            "_model_module_version": "1.5.0",
            "value": " 20/20 [00:00&lt;00:00, 37.50it/s]",
            "_view_count": null,
            "_view_module_version": "1.5.0",
            "description_tooltip": null,
            "_model_module": "@jupyter-widgets/controls",
            "layout": "IPY_MODEL_21abb3dd584146f5ae50c7a1eac10faf"
          }
        },
        "0af9c142ec124c7b87c9ca590c94cf08": {
          "model_module": "@jupyter-widgets/controls",
          "model_name": "ProgressStyleModel",
          "state": {
            "_view_name": "StyleView",
            "_model_name": "ProgressStyleModel",
            "description_width": "initial",
            "_view_module": "@jupyter-widgets/base",
            "_model_module_version": "1.5.0",
            "_view_count": null,
            "_view_module_version": "1.2.0",
            "bar_color": null,
            "_model_module": "@jupyter-widgets/controls"
          }
        },
        "0afd4081b7424c28ba436383a04df5ae": {
          "model_module": "@jupyter-widgets/base",
          "model_name": "LayoutModel",
          "state": {
            "_view_name": "LayoutView",
            "grid_template_rows": null,
            "right": null,
            "justify_content": null,
            "_view_module": "@jupyter-widgets/base",
            "overflow": null,
            "_model_module_version": "1.2.0",
            "_view_count": null,
            "flex_flow": null,
            "width": null,
            "min_width": null,
            "border": null,
            "align_items": null,
            "bottom": null,
            "_model_module": "@jupyter-widgets/base",
            "top": null,
            "grid_column": null,
            "overflow_y": null,
            "overflow_x": null,
            "grid_auto_flow": null,
            "grid_area": null,
            "grid_template_columns": null,
            "flex": null,
            "_model_name": "LayoutModel",
            "justify_items": null,
            "grid_row": null,
            "max_height": null,
            "align_content": null,
            "visibility": null,
            "align_self": null,
            "height": null,
            "min_height": null,
            "padding": null,
            "grid_auto_rows": null,
            "grid_gap": null,
            "max_width": null,
            "order": null,
            "_view_module_version": "1.2.0",
            "grid_template_areas": null,
            "object_position": null,
            "object_fit": null,
            "grid_auto_columns": null,
            "margin": null,
            "display": null,
            "left": null
          }
        },
        "686f0052807243a38a71714593c49ec9": {
          "model_module": "@jupyter-widgets/controls",
          "model_name": "DescriptionStyleModel",
          "state": {
            "_view_name": "StyleView",
            "_model_name": "DescriptionStyleModel",
            "description_width": "",
            "_view_module": "@jupyter-widgets/base",
            "_model_module_version": "1.5.0",
            "_view_count": null,
            "_view_module_version": "1.2.0",
            "_model_module": "@jupyter-widgets/controls"
          }
        },
        "21abb3dd584146f5ae50c7a1eac10faf": {
          "model_module": "@jupyter-widgets/base",
          "model_name": "LayoutModel",
          "state": {
            "_view_name": "LayoutView",
            "grid_template_rows": null,
            "right": null,
            "justify_content": null,
            "_view_module": "@jupyter-widgets/base",
            "overflow": null,
            "_model_module_version": "1.2.0",
            "_view_count": null,
            "flex_flow": null,
            "width": null,
            "min_width": null,
            "border": null,
            "align_items": null,
            "bottom": null,
            "_model_module": "@jupyter-widgets/base",
            "top": null,
            "grid_column": null,
            "overflow_y": null,
            "overflow_x": null,
            "grid_auto_flow": null,
            "grid_area": null,
            "grid_template_columns": null,
            "flex": null,
            "_model_name": "LayoutModel",
            "justify_items": null,
            "grid_row": null,
            "max_height": null,
            "align_content": null,
            "visibility": null,
            "align_self": null,
            "height": null,
            "min_height": null,
            "padding": null,
            "grid_auto_rows": null,
            "grid_gap": null,
            "max_width": null,
            "order": null,
            "_view_module_version": "1.2.0",
            "grid_template_areas": null,
            "object_position": null,
            "object_fit": null,
            "grid_auto_columns": null,
            "margin": null,
            "display": null,
            "left": null
          }
        }
      }
    }
  },
  "cells": [
    {
      "cell_type": "markdown",
      "metadata": {
        "id": "view-in-github",
        "colab_type": "text"
      },
      "source": [
        "<a href=\"https://colab.research.google.com/github/ashish244co/Deep-Hybrid-Learning/blob/master/PytorchGradientDescent.ipynb\" target=\"_parent\"><img src=\"https://colab.research.google.com/assets/colab-badge.svg\" alt=\"Open In Colab\"/></a>"
      ]
    },
    {
      "cell_type": "code",
      "metadata": {
        "id": "ZMYxkpPS7DdV",
        "colab_type": "code",
        "colab": {}
      },
      "source": [
        "import torch\n",
        "import matplotlib.pyplot as ply\n",
        "from sklearn.model_selection import train_test_split\n",
        "import matplotlib.pyplot as plt\n",
        "from sklearn.metrics import r2_score\n",
        "from sklearn.metrics import classification_report\n",
        "from tqdm import tqdm_notebook as tqdm\n",
        "import warnings\n",
        "warnings.filterwarnings(\"ignore\")"
      ],
      "execution_count": 0,
      "outputs": []
    },
    {
      "cell_type": "code",
      "metadata": {
        "id": "0DQSwD6_7m4x",
        "colab_type": "code",
        "colab": {
          "base_uri": "https://localhost:8080/",
          "height": 34
        },
        "outputId": "f3f78187-f052-4d45-b8a7-d675a354ecaa"
      },
      "source": [
        "print(torch.cuda.device_count())"
      ],
      "execution_count": 2,
      "outputs": [
        {
          "output_type": "stream",
          "text": [
            "1\n"
          ],
          "name": "stdout"
        }
      ]
    },
    {
      "cell_type": "code",
      "metadata": {
        "id": "hIM9nJHb7POk",
        "colab_type": "code",
        "colab": {
          "base_uri": "https://localhost:8080/",
          "height": 34
        },
        "outputId": "ee5434b8-e689-4fa0-972d-307c9ed55283"
      },
      "source": [
        "torch.cuda.get_device_name(0)"
      ],
      "execution_count": 3,
      "outputs": [
        {
          "output_type": "execute_result",
          "data": {
            "text/plain": [
              "'Tesla P100-PCIE-16GB'"
            ]
          },
          "metadata": {
            "tags": []
          },
          "execution_count": 3
        }
      ]
    },
    {
      "cell_type": "code",
      "metadata": {
        "id": "SsVelnQGBTYp",
        "colab_type": "code",
        "colab": {}
      },
      "source": [
        "device = torch.device('cuda:0')"
      ],
      "execution_count": 0,
      "outputs": []
    },
    {
      "cell_type": "code",
      "metadata": {
        "id": "YdsFQZY1l3PN",
        "colab_type": "code",
        "colab": {}
      },
      "source": [
        "import pandas as pd\n",
        "from sklearn.datasets import california_housing\n",
        "from sklearn import datasets"
      ],
      "execution_count": 0,
      "outputs": []
    },
    {
      "cell_type": "code",
      "metadata": {
        "id": "x4GK9TCs6H2s",
        "colab_type": "code",
        "colab": {}
      },
      "source": [
        "housing_data = california_housing.fetch_california_housing()\n",
        "Features = pd.DataFrame(housing_data.data, columns=housing_data.feature_names)\n",
        "Target = pd.DataFrame(housing_data.target, columns=['Target'])\n",
        "df = Features.join(Target)\n",
        "df = df[df.Target < 5]\n",
        "X = df.drop('Target',axis=1)\n",
        "y = df.Target"
      ],
      "execution_count": 0,
      "outputs": []
    },
    {
      "cell_type": "code",
      "metadata": {
        "id": "2d7KCeJVvYUo",
        "colab_type": "code",
        "colab": {}
      },
      "source": [
        "def init_weights(m):\n",
        "    if type(m) == torch.nn.Linear:\n",
        "        torch.nn.init.kaiming_uniform(m.weight)\n",
        "        m.bias.data.fill_(1)"
      ],
      "execution_count": 0,
      "outputs": []
    },
    {
      "cell_type": "code",
      "metadata": {
        "id": "DtbsBWx1zNW-",
        "colab_type": "code",
        "colab": {}
      },
      "source": [
        "class LinearRegression(torch.nn.Module):\n",
        "  def __init__(self,n_features,output_features):\n",
        "    super(LinearRegression, self).__init__()\n",
        "    self.linear = torch.nn.Linear(n_features, output_features)\n",
        "\n",
        "  def forward(self, x):\n",
        "        return self.linear(x)"
      ],
      "execution_count": 0,
      "outputs": []
    },
    {
      "cell_type": "code",
      "metadata": {
        "id": "Y4jPKq8-oFxS",
        "colab_type": "code",
        "colab": {}
      },
      "source": [
        "def regression(X,y,lr,epochs,batch_size):\n",
        "  tlosses=[]\n",
        "  vlosses=[]\n",
        "  Xtorch=torch.from_numpy(X.to_numpy()).float().to(device)\n",
        "  ytorch=torch.from_numpy(y.to_numpy()).float().to(device)\n",
        "  ytorch=ytorch.view(y.shape[0],1)\n",
        "  Xtorch=(Xtorch-Xtorch.mean(axis=0))/Xtorch.std(axis=0)\n",
        "  X_train, X_val, Y_train, Y_val = train_test_split(Xtorch, ytorch,test_size=0.3)\n",
        "  n_dims=X.shape[1]\n",
        "  output_size=1\n",
        "  model=LinearRegression(n_dims,output_size).to(device)\n",
        "  model.apply(init_weights)\n",
        "  loss=torch.nn.MSELoss().to(device)\n",
        "  opt=torch.optim.Adam(model.parameters(),lr=lr)\n",
        "  for epoch in tqdm(range(epochs)):\n",
        "    for i in range(0,len(X_train),batch_size):\n",
        "      \n",
        "      ypred=model(X_train[i:i+batch_size])\n",
        "      l=loss(ypred,Y_train[i:i+batch_size])\n",
        "      l.backward()\n",
        "      opt.step()\n",
        "      opt.zero_grad()\n",
        "\n",
        "    with torch.no_grad():\n",
        "      vlosses.append(loss(model(X_val),Y_val).item())\n",
        "      tlosses.append(l.item())\n",
        "      if((epoch+1)%5==0):\n",
        "        print(\"MSE is:\",l.item(),', Epoch Number:',epoch)\n",
        "\n",
        "  with torch.no_grad():\n",
        "    print(\"R^2 loss:\",r2_score(Y_val.cpu(),model(X_val).cpu()))\n",
        "    \n",
        "  return model,tlosses,vlosses"
      ],
      "execution_count": 0,
      "outputs": []
    },
    {
      "cell_type": "code",
      "metadata": {
        "id": "nZTXGUp3EDeM",
        "colab_type": "code",
        "colab": {
          "base_uri": "https://localhost:8080/",
          "height": 151,
          "referenced_widgets": [
            "662135498d8643ada88f0adb55c69933",
            "f1632732ab9b40a0b279f07cfbbb54e7",
            "bb9aaed9522541cdb50b1f1e9101f74d",
            "16cb4169fa284ca2801df146139284e3",
            "a388833015e046a28571b6d6df3323de",
            "5c56b97523984730a2b8075311ed2abd",
            "cf093e39dc7746e9a1c289a9e63755bb",
            "03e8054726ad40b6b15c83ca50bb2cf6"
          ]
        },
        "outputId": "6b6006d4-76e2-4181-8715-4b97b1d6bdfc"
      },
      "source": [
        "m,l,v=regression(X,y,0.001,20,16)"
      ],
      "execution_count": 10,
      "outputs": [
        {
          "output_type": "display_data",
          "data": {
            "application/vnd.jupyter.widget-view+json": {
              "model_id": "662135498d8643ada88f0adb55c69933",
              "version_minor": 0,
              "version_major": 2
            },
            "text/plain": [
              "HBox(children=(FloatProgress(value=0.0, max=20.0), HTML(value='')))"
            ]
          },
          "metadata": {
            "tags": []
          }
        },
        {
          "output_type": "stream",
          "text": [
            "MSE is: 0.2990338206291199 , Epoch Number: 4\n",
            "MSE is: 0.2974467873573303 , Epoch Number: 9\n",
            "MSE is: 0.296707421541214 , Epoch Number: 14\n",
            "MSE is: 0.29657942056655884 , Epoch Number: 19\n",
            "\n",
            "R^2 loss: 0.5661172063096753\n"
          ],
          "name": "stdout"
        }
      ]
    },
    {
      "cell_type": "code",
      "metadata": {
        "id": "TUJ5Qt8jnDHO",
        "colab_type": "code",
        "colab": {
          "base_uri": "https://localhost:8080/",
          "height": 296
        },
        "outputId": "ac4e47f1-c889-4d1d-8249-9e5c30eaaed9"
      },
      "source": [
        "plt.xlabel('Epochs')\n",
        "plt.ylabel('Mean Squared Error')\n",
        "plt.plot(l,label='Training Loss')\n",
        "plt.plot(v,label='Validation Loss')\n",
        "plt.legend()"
      ],
      "execution_count": 11,
      "outputs": [
        {
          "output_type": "execute_result",
          "data": {
            "text/plain": [
              "<matplotlib.legend.Legend at 0x7fafa42d30b8>"
            ]
          },
          "metadata": {
            "tags": []
          },
          "execution_count": 11
        },
        {
          "output_type": "display_data",
          "data": {
            "image/png": "[encoded data removed]",
            "text/plain": [
              "<Figure size 432x288 with 1 Axes>"
            ]
          },
          "metadata": {
            "tags": [],
            "needs_background": "light"
          }
        }
      ]
    },
    {
      "cell_type": "code",
      "metadata": {
        "id": "o2uUVmm51aoT",
        "colab_type": "code",
        "colab": {}
      },
      "source": [
        "bc = datasets.load_breast_cancer()\n",
        "X, y = bc.data, bc.target\n",
        "n_features = X.shape[1]"
      ],
      "execution_count": 0,
      "outputs": []
    },
    {
      "cell_type": "code",
      "metadata": {
        "id": "67Runv1d3Fs8",
        "colab_type": "code",
        "colab": {}
      },
      "source": [
        "Xt = pd.DataFrame(X)\n",
        "yt = pd.DataFrame(y)"
      ],
      "execution_count": 0,
      "outputs": []
    },
    {
      "cell_type": "code",
      "metadata": {
        "id": "0N0yQ6KZ1MHH",
        "colab_type": "code",
        "colab": {}
      },
      "source": [
        "class LinearClassification(torch.nn.Module):\n",
        "  def __init__(self,n_features,output_features):\n",
        "    super(LinearClassification, self).__init__()\n",
        "    self.linear = torch.nn.Linear(n_features, output_features)\n",
        "\n",
        "  def forward(self, x):\n",
        "        return torch.sigmoid(self.linear(x))"
      ],
      "execution_count": 0,
      "outputs": []
    },
    {
      "cell_type": "code",
      "metadata": {
        "id": "iZ7sRvL_ygAx",
        "colab_type": "code",
        "colab": {}
      },
      "source": [
        "def classification(X,y,lr,epochs,batch_size):\n",
        "  tlosses=[]\n",
        "  vlosses=[]\n",
        "  Xtorch=torch.from_numpy(X.to_numpy()).float().to(device)\n",
        "  ytorch=torch.from_numpy(y.to_numpy()).float().to(device)\n",
        "  ytorch=ytorch.view(y.shape[0],1)\n",
        "  X=(Xtorch-Xtorch.mean(axis=0))/Xtorch.std(axis=0)\n",
        "  X_train, X_val, Y_train, Y_val = train_test_split(Xtorch, ytorch,test_size=0.3)\n",
        "  n_dims=X.shape[1]\n",
        "  output_size=1\n",
        "  model=LinearClassification(n_dims,output_size).to(device)\n",
        "  model.apply(init_weights)\n",
        "  loss=torch.nn.BCELoss().to(device)\n",
        "  opt=torch.optim.Adam(model.parameters(),lr=lr)\n",
        "  for epoch in tqdm(range(epochs)):\n",
        "    for i in range(0,len(X_train),batch_size):\n",
        "      ypred=model(X_train[i:i+batch_size])\n",
        "      l=loss(ypred,Y_train[i:i+batch_size])\n",
        "      l.backward()\n",
        "      opt.step()\n",
        "      opt.zero_grad()\n",
        "\n",
        "    with torch.no_grad():\n",
        "      vlosses.append(loss(model(X_val),Y_val).item())\n",
        "      tlosses.append(l.item())\n",
        "      if((epoch+1)%5==0):\n",
        "        print(\"Binary Cross Entropy loss is:\",l.item(),', Epoch Number:',epoch)\n",
        "  \n",
        "  with torch.no_grad():\n",
        "    ypred=(model(X_val)>0.5).cpu().detach().numpy()\n",
        "    print('Accuracy is:',classification_report(Y_val.cpu().detach().numpy(),ypred))\n",
        "\n",
        "  return model,tlosses,vlosses"
      ],
      "execution_count": 0,
      "outputs": []
    },
    {
      "cell_type": "code",
      "metadata": {
        "id": "2ucEmmht1YpH",
        "colab_type": "code",
        "colab": {
          "base_uri": "https://localhost:8080/",
          "height": 287,
          "referenced_widgets": [
            "0b087a2fdd844b94b12f6af602be4b9e",
            "2d3f3081c6de450e8db4a0ee1d89a1a7",
            "d797ec59439a40cba25b293fe2274bb6",
            "2e03d31591b042648d4809783d0ec7cc",
            "0af9c142ec124c7b87c9ca590c94cf08",
            "0afd4081b7424c28ba436383a04df5ae",
            "686f0052807243a38a71714593c49ec9",
            "21abb3dd584146f5ae50c7a1eac10faf"
          ]
        },
        "outputId": "0ebc2abd-5ca4-407a-9124-181de62da8e6"
      },
      "source": [
        "m,l,v=classification(Xt,yt,0.01,20,16)"
      ],
      "execution_count": 16,
      "outputs": [
        {
          "output_type": "display_data",
          "data": {
            "application/vnd.jupyter.widget-view+json": {
              "model_id": "0b087a2fdd844b94b12f6af602be4b9e",
              "version_minor": 0,
              "version_major": 2
            },
            "text/plain": [
              "HBox(children=(FloatProgress(value=0.0, max=20.0), HTML(value='')))"
            ]
          },
          "metadata": {
            "tags": []
          }
        },
        {
          "output_type": "stream",
          "text": [
            "Binary Cross Entropy loss is: 0.000683075690176338 , Epoch Number: 4\n",
            "Binary Cross Entropy loss is: 0.10951847583055496 , Epoch Number: 9\n",
            "Binary Cross Entropy loss is: 0.20492687821388245 , Epoch Number: 14\n",
            "Binary Cross Entropy loss is: 0.20765160024166107 , Epoch Number: 19\n",
            "\n",
            "Accuracy is:               precision    recall  f1-score   support\n",
            "\n",
            "         0.0       0.83      0.96      0.89        70\n",
            "         1.0       0.97      0.86      0.91       101\n",
            "\n",
            "    accuracy                           0.90       171\n",
            "   macro avg       0.90      0.91      0.90       171\n",
            "weighted avg       0.91      0.90      0.90       171\n",
            "\n"
          ],
          "name": "stdout"
        }
      ]
    },
    {
      "cell_type": "code",
      "metadata": {
        "id": "4Z4L_Z6r2bMO",
        "colab_type": "code",
        "colab": {
          "base_uri": "https://localhost:8080/",
          "height": 296
        },
        "outputId": "ae1bb25f-966f-45f4-9f0b-428eff07ac1c"
      },
      "source": [
        "plt.xlabel('Epochs')\n",
        "plt.ylabel('Binary Cross Entropy Loss')\n",
        "plt.xticks(range(1,20,2))\n",
        "plt.plot(l,label='Training Loss')\n",
        "plt.plot(v,label='Validation Loss')\n",
        "plt.legend()"
      ],
      "execution_count": 17,
      "outputs": [
        {
          "output_type": "execute_result",
          "data": {
            "text/plain": [
              "<matplotlib.legend.Legend at 0x7fafa05476d8>"
            ]
          },
          "metadata": {
            "tags": []
          },
          "execution_count": 17
        },
        {
          "output_type": "display_data",
          "data": {
            "image/png": "[encoded data removed]",
            "text/plain": [
              "<Figure size 432x288 with 1 Axes>"
            ]
          },
          "metadata": {
            "tags": [],
            "needs_background": "light"
          }
        }
      ]
    }
  ]
}